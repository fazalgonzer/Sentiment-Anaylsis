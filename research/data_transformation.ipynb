{
 "cells": [
  {
   "cell_type": "code",
   "execution_count": 1,
   "metadata": {},
   "outputs": [
    {
     "data": {
      "text/plain": [
       "'d:\\\\Sentiment Anaylsis\\\\research'"
      ]
     },
     "execution_count": 1,
     "metadata": {},
     "output_type": "execute_result"
    }
   ],
   "source": [
    "import os\n",
    "%pwd"
   ]
  },
  {
   "cell_type": "code",
   "execution_count": 2,
   "metadata": {},
   "outputs": [],
   "source": [
    "os.chdir(\"../\")"
   ]
  },
  {
   "cell_type": "code",
   "execution_count": 5,
   "metadata": {},
   "outputs": [],
   "source": [
    "import os\n",
    "from box.exceptions import BoxValueError\n",
    "import yaml\n",
    "\n",
    "import json\n",
    "import joblib\n",
    "from ensure import ensure_annotations\n",
    "from box import ConfigBox\n",
    "from pathlib import Path\n",
    "from typing import Any\n",
    "import base64\n",
    "from pathlib import Path"
   ]
  },
  {
   "cell_type": "code",
   "execution_count": 3,
   "metadata": {},
   "outputs": [],
   "source": [
    "def create_directories(path_to_dir:list,verbose=True):\n",
    "    for path in path_to_dir:\n",
    "        os.makedirs(path,exist_ok=True)\n",
    "       # if verbose:\n",
    "           # logger.info(f\"created dierctor ast {path}\")\n"
   ]
  },
  {
   "cell_type": "code",
   "execution_count": 6,
   "metadata": {},
   "outputs": [],
   "source": [
    "def read_yaml(path_to_yaml:Path)-> ConfigBox:\n",
    "    try:\n",
    "        with open(path_to_yaml) as yaml_file:\n",
    "            content=yaml.safe_load(yaml_file)\n",
    "           # logger.info(f\"yaml file {path_to_yaml} load sucessfuly\")\n",
    "            return ConfigBox(content)\n",
    "    except BoxValueError:\n",
    "        raise ValueError(\"yaml file is empty\")\n",
    "    except Exception as e:\n",
    "        raise(e)"
   ]
  },
  {
   "cell_type": "code",
   "execution_count": 50,
   "metadata": {},
   "outputs": [],
   "source": [
    "from dataclasses import dataclass\n",
    "from pathlib import Path\n",
    "@dataclass\n",
    "class Datatransformationconfig:\n",
    "    root_dir:Path\n",
    "    source_name: str\n",
    "    local_file: str\n",
    "    transformed_path: Path\n",
    "    "
   ]
  },
  {
   "cell_type": "code",
   "execution_count": 51,
   "metadata": {},
   "outputs": [],
   "source": [
    "class ConfigurationManger:\n",
    "    def __init__(self,config_file_path,params_file_path):\n",
    "        self.config=read_yaml(config_file_path)\n",
    "        self.params=read_yaml(params_file_path)\n",
    "\n",
    "        create_directories([self.config.artifacts_root])\n",
    "\n",
    "    def get_data_transformation_config(self) -> Datatransformationconfig:\n",
    "        config=self.config.data_transformation\n",
    "\n",
    "        create_directories([config.root_dir])\n",
    "        data_transformation_config=Datatransformationconfig(\n",
    "\n",
    "\n",
    "            root_dir=config.root_dir,\n",
    "\n",
    "\n",
    "            \n",
    "            source_name= config.source_name,\n",
    "           \n",
    "            local_file=config.local_file,\n",
    "            transformed_path=config.transformed_path\n",
    "\n",
    "                \n",
    "        )\n",
    "      \n",
    "        return data_transformation_config\n",
    "    \n",
    "        "
   ]
  },
  {
   "cell_type": "code",
   "execution_count": 69,
   "metadata": {},
   "outputs": [],
   "source": [
    "from datasets import load_from_disk\n",
    "from transformers import AutoTokenizer\n",
    "\n",
    "class Datatransformation:\n",
    "    def __init__(self, config:Datatransformationconfig):\n",
    "        self.config=config \n",
    "    \n",
    "        self.dataset=load_from_disk(self.config.local_file)\n",
    "        self.tokenizer = AutoTokenizer.from_pretrained(self.config.source_name)\n",
    "        self.tokenized=None\n",
    "\n",
    "    def convert_examples_to_features(self, example):\n",
    "        input_encodings = self.tokenizer(example['review'], max_length=128, truncation=True, padding='max_length')\n",
    "        labels = [rating - 1 for rating in example['star']]\n",
    "\n",
    "        return {\n",
    "            'input_ids': input_encodings['input_ids'],\n",
    "            'attention_mask': input_encodings['attention_mask'],\n",
    "            'labels': labels\n",
    "        }\n",
    "    def transformed(self):\n",
    "        tokenized_datasets = self.dataset.map(self.convert_examples_to_features, batched=True)\n",
    "        tokenized_datasets.save_to_disk(self.config.transformed_path)\n",
    "\n",
    "\n"
   ]
  },
  {
   "cell_type": "code",
   "execution_count": 32,
   "metadata": {},
   "outputs": [],
   "source": [
    "dataset=load_from_disk('artifacts/save_dataset')"
   ]
  },
  {
   "cell_type": "code",
   "execution_count": 70,
   "metadata": {},
   "outputs": [
    {
     "name": "stderr",
     "output_type": "stream",
     "text": [
      "Map: 100%|██████████| 288065/288065 [00:20<00:00, 13946.50 examples/s]\n",
      "Saving the dataset (1/1 shards): 100%|██████████| 288065/288065 [00:00<00:00, 820632.62 examples/s]\n"
     ]
    }
   ],
   "source": [
    "try:\n",
    "    config=ConfigurationManger(config_file_path=Path(\"config.yaml\"),params_file_path=Path(\"params.yaml\"))\n",
    "    datatransformation_config=config.get_data_transformation_config()\n",
    "    data_transformation=Datatransformation(config=datatransformation_config)\n",
    "\n",
    "    \n",
    "    data_transformation.transformed()\n",
    "except Exception as e:\n",
    "    raise e"
   ]
  }
 ],
 "metadata": {
  "kernelspec": {
   "display_name": "fazal",
   "language": "python",
   "name": "python3"
  },
  "language_info": {
   "codemirror_mode": {
    "name": "ipython",
    "version": 3
   },
   "file_extension": ".py",
   "mimetype": "text/x-python",
   "name": "python",
   "nbconvert_exporter": "python",
   "pygments_lexer": "ipython3",
   "version": "3.10.9"
  }
 },
 "nbformat": 4,
 "nbformat_minor": 2
}
