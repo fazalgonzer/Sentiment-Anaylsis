{
 "cells": [
  {
   "cell_type": "code",
   "execution_count": 1,
   "metadata": {},
   "outputs": [],
   "source": [
    "import os\n",
    "%pwd\n",
    "os.chdir(\"../\")"
   ]
  },
  {
   "cell_type": "code",
   "execution_count": 2,
   "metadata": {},
   "outputs": [],
   "source": [
    "import os\n",
    "from box.exceptions import BoxValueError\n",
    "import yaml\n",
    "\n",
    "import json\n",
    "import joblib\n",
    "from ensure import ensure_annotations\n",
    "from box import ConfigBox\n",
    "from pathlib import Path\n",
    "from typing import Any\n",
    "import base64\n",
    "from pathlib import Path"
   ]
  },
  {
   "cell_type": "code",
   "execution_count": 3,
   "metadata": {},
   "outputs": [],
   "source": [
    "def create_directories(path_to_dir:list,verbose=True):\n",
    "    for path in path_to_dir:\n",
    "        os.makedirs(path,exist_ok=True)\n",
    "       # if verbose:\n",
    "           # logger.info(f\"created dierctor ast {path}\")\n"
   ]
  },
  {
   "cell_type": "code",
   "execution_count": 4,
   "metadata": {},
   "outputs": [],
   "source": [
    "def read_yaml(path_to_yaml:Path)-> ConfigBox:\n",
    "    try:\n",
    "        with open(path_to_yaml) as yaml_file:\n",
    "            content=yaml.safe_load(yaml_file)\n",
    "           # logger.info(f\"yaml file {path_to_yaml} load sucessfuly\")\n",
    "            return ConfigBox(content)\n",
    "    except BoxValueError:\n",
    "        raise ValueError(\"yaml file is empty\")\n",
    "    except Exception as e:\n",
    "        raise(e)"
   ]
  },
  {
   "cell_type": "code",
   "execution_count": 6,
   "metadata": {},
   "outputs": [],
   "source": [
    "from dataclasses import dataclass\n",
    "from pathlib import Path\n",
    "@dataclass\n",
    "class PredictionConfig:\n",
    "    root_dir: Path\n",
    "    source_name: str"
   ]
  },
  {
   "cell_type": "code",
   "execution_count": 15,
   "metadata": {},
   "outputs": [],
   "source": [
    "class ConfigurationManger:\n",
    "    def __init__(self,config_file_path,params_file_path):\n",
    "        self.config=read_yaml(config_file_path)\n",
    "        self.params=read_yaml(params_file_path)\n",
    "\n",
    "        create_directories([self.config.artifacts_root])\n",
    "\n",
    "    def get_prediction_config(self) -> PredictionConfig:\n",
    "        config=self.config.prediction\n",
    "\n",
    "        create_directories([config.root_dir])\n",
    "        prediction_config=PredictionConfig(\n",
    "\n",
    "\n",
    "            root_dir=config.root_dir,\n",
    "\n",
    "\n",
    "            \n",
    "            source_name= config.source_name,\n",
    "           \n",
    "           \n",
    "                \n",
    "        )\n",
    "      \n",
    "        return prediction_config"
   ]
  },
  {
   "cell_type": "code",
   "execution_count": 12,
   "metadata": {},
   "outputs": [],
   "source": [
    "from transformers import AutoModelForSequenceClassification,AutoTokenizer\n"
   ]
  },
  {
   "cell_type": "code",
   "execution_count": 24,
   "metadata": {},
   "outputs": [],
   "source": [
    "import torch"
   ]
  },
  {
   "cell_type": "code",
   "execution_count": 25,
   "metadata": {},
   "outputs": [],
   "source": [
    "class Prediction:\n",
    "     def __init__(self, config:PredictionConfig):\n",
    "        self.config=config \n",
    "        self.model = AutoModelForSequenceClassification.from_pretrained(self.config.source_name,num_labels=5)\n",
    "        self.tokenizer= AutoTokenizer.from_pretrained(self.config.source_name)\n",
    "        \n",
    "\n",
    "     def prediction(self,text):\n",
    "         \n",
    "         inputs = self.tokenizer(text, return_tensors=\"pt\")\n",
    "         \n",
    "         with torch.no_grad():\n",
    "            outputs = self.model(**inputs)\n",
    "    \n",
    "         # Get the predicted label (logits)\n",
    "         logits = outputs.logits\n",
    "         \n",
    "         # Convert logits to probabilities\n",
    "         probabilities = torch.softmax(logits, dim=1)\n",
    "         \n",
    "         # Get the label with the highest probability\n",
    "         predicted_label = torch.argmax(probabilities, dim=1).item()\n",
    "         \n",
    "         return predicted_label, probabilities\n",
    "\n",
    "\n",
    "\n",
    "         \n",
    "         return predicted_label , probabilities\n",
    "\n",
    "\n",
    "         \n",
    "\n"
   ]
  },
  {
   "cell_type": "code",
   "execution_count": 30,
   "metadata": {},
   "outputs": [],
   "source": [
    "try:\n",
    "    config=ConfigurationManger(config_file_path=Path(\"config.yaml\"),params_file_path=Path(\"params.yaml\"))\n",
    "    prediction_config=config.get_prediction_config()\n",
    "    pred=Prediction(config=prediction_config)\n",
    "    label=pred.prediction(\"i love this product so much\")\n",
    "except Exception as e :\n",
    "    raise e"
   ]
  },
  {
   "cell_type": "code",
   "execution_count": 31,
   "metadata": {},
   "outputs": [
    {
     "data": {
      "text/plain": [
       "(4, tensor([[0.0023, 0.0019, 0.0085, 0.0930, 0.8943]]))"
      ]
     },
     "execution_count": 31,
     "metadata": {},
     "output_type": "execute_result"
    }
   ],
   "source": [
    "label"
   ]
  },
  {
   "cell_type": "code",
   "execution_count": null,
   "metadata": {},
   "outputs": [],
   "source": []
  }
 ],
 "metadata": {
  "kernelspec": {
   "display_name": "fazal",
   "language": "python",
   "name": "python3"
  },
  "language_info": {
   "codemirror_mode": {
    "name": "ipython",
    "version": 3
   },
   "file_extension": ".py",
   "mimetype": "text/x-python",
   "name": "python",
   "nbconvert_exporter": "python",
   "pygments_lexer": "ipython3",
   "version": "3.10.9"
  }
 },
 "nbformat": 4,
 "nbformat_minor": 2
}
